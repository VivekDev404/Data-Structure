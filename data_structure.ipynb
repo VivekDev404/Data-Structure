{
  "nbformat": 4,
  "nbformat_minor": 0,
  "metadata": {
    "colab": {
      "provenance": []
    },
    "kernelspec": {
      "name": "python3",
      "display_name": "Python 3"
    },
    "language_info": {
      "name": "python"
    }
  },
  "cells": [
    {
      "cell_type": "code",
      "execution_count": null,
      "metadata": {
        "id": "I1w1YeoeXCTt"
      },
      "outputs": [],
      "source": []
    },
    {
      "cell_type": "markdown",
      "source": [
        "1. What are data structures, and why are they important?\n",
        " - Data structures are specialized formats for organizing, processing, storing, and retrieving data, crucial for efficient and effective software development.\n",
        "2. Difference between mutable and immutable data types with examples:\n",
        " - Mutable: Can be changed after creation. Example: list, dict.\n",
        "\n",
        "     Immutable: Cannot be changed after creation. Example: tuple, str.\n",
        "3. Lists vs Tuples in Python?\n",
        " - Lists are mutable, tuples are immutable.\n",
        "\n",
        "  - Lists use more memory and are slower than tuples.\n",
        "\n",
        "  - Tuples can be used as keys in dictionaries, lists cannot.\n",
        "4. How dictionaries store data?\n",
        "  - Dictionaries store data in key-value pairs using a hash table. Each key is hashed to find its corresponding value.\n",
        "5. Why use a set instead of a list?\n",
        "  - Sets do not allow duplicates and provide faster membership testing due to their hash-based structure.\n",
        "6. What is a string in Python, and how is it different from a list?\n",
        "  - A string is an immutable sequence of characters. Lists are mutable and can hold elements of different types.\n",
        "7. How tuples ensure data integrity?\n",
        "  - Tuples are immutable, so once created, their values cannot be changed, which ensures data integrity.\n",
        "8. What is a hash table, and how does it relate to dictionaries?\n",
        "  - A hash table maps keys to values using a hash function. Python dictionaries are implemented using hash tables.\n",
        "9. Can lists contain different data types?\n",
        "  - Yes, Python lists can contain mixed data types (e.g., integers, strings, lists).\n",
        "10. Why strings are immutable:\n",
        "  - Strings are immutable to ensure memory efficiency and security, and to allow safe sharing between functions.\n",
        "11. Advantages of dictionaries over lists:\n",
        "\n",
        "  - Faster lookup with keys and\n",
        "\n",
        "   - Better for representing structured data (e.g., a person with name, age, etc.)\n",
        "12. Scenario where tuple is better than list?\n",
        "  - When data should not be changed, such as storing days of the week or fixed configurations.\n",
        "\n",
        "13. How sets handle duplicate values?\n",
        "  - Sets automatically remove duplicate values.\n",
        "\n",
        "14. “in” keyword in lists vs dictionaries:\n",
        "\n",
        "  - In lists: Checks if a value exists.\n",
        "\n",
        "   - In dictionaries: Checks if a key exists.\n",
        "\n",
        "15. Can you modify tuple elements?\n",
        "  - No, because tuples are immutable.\n",
        "\n",
        "16. What is a nested dictionary + example?\n",
        "  - A dictionary inside another dictionary.\n",
        "Example:\n",
        "student = {\"name\": \"Alice\", \"grades\": {\"math\": 90, \"science\": 85}}\n",
        "17. Time complexity of accessing elements in a dictionary?\n",
        "  - Average time complexity is O(1) due to hashing.\n",
        "\n",
        "18. When lists are preferred over dictionaries?\n",
        "  - When data order matters or when storing a sequence of similar elements without unique keys.\n",
        "\n",
        "19. Why dictionaries are considered unordered:\n",
        "  - Before Python 3.7, dictionaries did not maintain order. Even now, although order is preserved, they are logically still key-based.\n",
        "\n",
        "20. List vs Dictionary in data retrieval:\n",
        "\n",
        "  - List: Access by index (position-based).\n",
        "\n",
        "   - Dictionary: Access by key (key-based, faster for lookups).\n",
        "\n",
        "\n",
        "\n"
      ],
      "metadata": {
        "id": "8Md2VNBZXDWg"
      }
    },
    {
      "cell_type": "code",
      "source": [
        "#1 Write a code to create a string with your name and print it:\n",
        "name = \"John Doe\"\n",
        "print(name)"
      ],
      "metadata": {
        "colab": {
          "base_uri": "https://localhost:8080/"
        },
        "id": "siPMFUadXJfI",
        "outputId": "c55437c8-c436-4452-fce3-4948506cec84"
      },
      "execution_count": 1,
      "outputs": [
        {
          "output_type": "stream",
          "name": "stdout",
          "text": [
            "John Doe\n"
          ]
        }
      ]
    },
    {
      "cell_type": "code",
      "source": [
        "#2 Write a code to find the length of the string \"Hello World\":\n",
        "string = \"Hello World\"\n",
        "length = len(string)\n",
        "print(length)"
      ],
      "metadata": {
        "colab": {
          "base_uri": "https://localhost:8080/"
        },
        "id": "Bhn8I9pMXo6w",
        "outputId": "b5dba4fd-4d20-4cfc-9ef0-463058a0aa86"
      },
      "execution_count": 2,
      "outputs": [
        {
          "output_type": "stream",
          "name": "stdout",
          "text": [
            "11\n"
          ]
        }
      ]
    },
    {
      "cell_type": "code",
      "source": [
        "#3 Write a code to slice the first 3 characters from the string \"Python Programming\":\n",
        "string = \"Python Programming\"\n",
        "sliced = string[:3]\n",
        "print(sliced)"
      ],
      "metadata": {
        "colab": {
          "base_uri": "https://localhost:8080/"
        },
        "id": "DElmjzCcX0sr",
        "outputId": "a4427fb2-7d2b-4d92-f36c-56bb8dbcfe0f"
      },
      "execution_count": 3,
      "outputs": [
        {
          "output_type": "stream",
          "name": "stdout",
          "text": [
            "Pyt\n"
          ]
        }
      ]
    },
    {
      "cell_type": "code",
      "source": [
        "#4 Write a code to convert the string \"hello\" to uppercase:\n",
        "string = \"hello\"\n",
        "uppercase = string.upper()\n",
        "print(uppercase)"
      ],
      "metadata": {
        "colab": {
          "base_uri": "https://localhost:8080/"
        },
        "id": "axhrT-OpYE67",
        "outputId": "80c026b0-3198-4124-bb95-70ddcf827a52"
      },
      "execution_count": 4,
      "outputs": [
        {
          "output_type": "stream",
          "name": "stdout",
          "text": [
            "HELLO\n"
          ]
        }
      ]
    },
    {
      "cell_type": "code",
      "source": [
        "#5 Write a code to replace the word \"apple\" with \"orange\" in the string \"I like apple\":\n",
        "print(\"I like apple\".replace(\"apple\", \"orange\"))"
      ],
      "metadata": {
        "colab": {
          "base_uri": "https://localhost:8080/"
        },
        "id": "dzBULKvbYO35",
        "outputId": "5cd437d6-1fa3-4183-f117-e5ae10e7a5c8"
      },
      "execution_count": 5,
      "outputs": [
        {
          "output_type": "stream",
          "name": "stdout",
          "text": [
            "I like orange\n"
          ]
        }
      ]
    },
    {
      "cell_type": "code",
      "source": [
        "# 6  Write a code to create a list with numbers 1 to 5 and print it\n",
        "numbers = [1, 2, 3, 4, 5]\n",
        "print(numbers)\n",
        "\n",
        "# 7 Write a code to append the number 10 to the list [1, 2, 3, 4]:\n",
        "lst = [1, 2, 3, 4]\n",
        "lst.append(10)\n",
        "print(lst)\n",
        "\n",
        "# 8 Write a code to remove the number 3 from the list [1, 2, 3, 4, 5]:\n",
        "lst = [1, 2, 3, 4, 5]\n",
        "lst.remove(3)\n",
        "print(lst)\n",
        "\n",
        "# 9 Write a code to access the second element in the list ['a', 'b', 'c', 'd']:\n",
        "chars = ['a', 'b', 'c', 'd']\n",
        "print(chars[1])\n",
        "\n",
        "# 10 Write a code to reverse the list [10, 20, 30, 40, 50].\n",
        "nums = [10, 20, 30, 40, 50]\n",
        "nums.reverse()\n",
        "print(nums)\n"
      ],
      "metadata": {
        "colab": {
          "base_uri": "https://localhost:8080/"
        },
        "id": "DpBsR92CYw9g",
        "outputId": "187cec29-7f44-4418-9ec7-48dd30820353"
      },
      "execution_count": 6,
      "outputs": [
        {
          "output_type": "stream",
          "name": "stdout",
          "text": [
            "[1, 2, 3, 4, 5]\n",
            "[1, 2, 3, 4, 10]\n",
            "[1, 2, 4, 5]\n",
            "b\n",
            "[50, 40, 30, 20, 10]\n"
          ]
        }
      ]
    },
    {
      "cell_type": "code",
      "source": [
        "# 11 Write a code to create a tuple with the elements 100, 200, 300 and print it.\n",
        "tup = (100, 200, 300)\n",
        "print(tup)\n",
        "\n",
        "# 12 Write a code to access the second-to-last element of the tuple ('red', 'green', 'blue', 'yellow').\n",
        "colors = ('red', 'green', 'blue', 'yellow')\n",
        "print(colors[-2])\n",
        "\n",
        "# 13 Write a code to find the minimum number in the tuple (10, 20, 5, 15).\n",
        "tup = (10, 20, 5, 15)\n",
        "print(min(tup))\n",
        "\n",
        "# 14 Write a code to find the index of the element \"cat\" in the tuple ('dog', 'cat', 'rabbit').\n",
        "animals = ('dog', 'cat', 'rabbit')\n",
        "print(animals.index('cat'))\n",
        "\n",
        "# 15 Write a code to create a tuple containing three different fruits and check if \"kiwi\" is in it.\n",
        "fruits = ('apple', 'banana', 'cherry')\n",
        "print(\"kiwi\" in fruits)\n"
      ],
      "metadata": {
        "colab": {
          "base_uri": "https://localhost:8080/"
        },
        "id": "GWLyhQfIZaRG",
        "outputId": "60a90af5-9f0c-4f7b-88ed-499f588d2210"
      },
      "execution_count": 7,
      "outputs": [
        {
          "output_type": "stream",
          "name": "stdout",
          "text": [
            "(100, 200, 300)\n",
            "blue\n",
            "5\n",
            "1\n",
            "False\n"
          ]
        }
      ]
    },
    {
      "cell_type": "code",
      "source": [
        "# 16 Write a code to create a set with the elements 'a', 'b', 'c' and print it.\n",
        "s = {'a', 'b', 'c'}\n",
        "print(s)\n",
        "\n",
        "# 17  Write a code to clear all elements from the set {1, 2, 3, 4, 5}.\n",
        "s = {1, 2, 3, 4, 5}\n",
        "s.clear()\n",
        "print(s)\n",
        "\n",
        "# 18 Write a code to remove the element 4 from the set {1, 2, 3, 4}.\n",
        "s = {1, 2, 3, 4}\n",
        "s.remove(4)\n",
        "print(s)\n",
        "\n",
        "# 19 Write a code to find the union of two sets {1, 2, 3} and {3, 4, 5}.\n",
        "set1 = {1, 2, 3}\n",
        "set2 = {3, 4, 5}\n",
        "print(set1.union(set2))\n",
        "\n",
        "# 20 Write a code to find the intersection of two sets {1, 2, 3} and {2, 3, 4}.\n",
        "print(set1.intersection(set2))\n"
      ],
      "metadata": {
        "colab": {
          "base_uri": "https://localhost:8080/"
        },
        "id": "nplRfGDfZu1x",
        "outputId": "09fde3d1-349d-4025-a1a7-031baeeaa425"
      },
      "execution_count": 8,
      "outputs": [
        {
          "output_type": "stream",
          "name": "stdout",
          "text": [
            "{'b', 'c', 'a'}\n",
            "set()\n",
            "{1, 2, 3}\n",
            "{1, 2, 3, 4, 5}\n",
            "{3}\n"
          ]
        }
      ]
    },
    {
      "cell_type": "code",
      "source": [
        "# 21 Write a code to create a dictionary with the keys \"name\", \"age\", and \"city\", and print it.\n",
        "person = {\"name\": \"John\", \"age\": 25, \"city\": \"New York\"}\n",
        "print(person)\n",
        "\n",
        "# 22 Write a code to add a new key-value pair \"country\": \"USA\" to the dictionary {'name': 'John', 'age': 25}.\n",
        "person = {'name': 'John', 'age': 25}\n",
        "person['country'] = 'USA'\n",
        "print(person)\n",
        "\n",
        "# 23  Write a code to access the value associated with the key \"name\" in the dictionary {'name': 'Alice', 'age': 30\n",
        "data = {'name': 'Alice', 'age': 30}\n",
        "print(data['name'])\n",
        "\n",
        "# 24 Write a code to remove the key \"age\" from the dictionary {'name': 'Bob', 'age': 22, 'city': 'New York'}.\n",
        "data = {'name': 'Bob', 'age': 22, 'city': 'New York'}\n",
        "del data['age']\n",
        "print(data)\n",
        "\n",
        "# 25 Write a code to check if the key \"city\" exists in the dictionary {'name': 'Alice', 'city': 'Paris'}.\n",
        "data = {'name': 'Alice', 'city': 'Paris'}\n",
        "print('city' in data)\n"
      ],
      "metadata": {
        "colab": {
          "base_uri": "https://localhost:8080/"
        },
        "id": "5jUIhwTnZ_7r",
        "outputId": "589ae4a8-8fcd-4160-9a56-24598085fba1"
      },
      "execution_count": 9,
      "outputs": [
        {
          "output_type": "stream",
          "name": "stdout",
          "text": [
            "{'name': 'John', 'age': 25, 'city': 'New York'}\n",
            "{'name': 'John', 'age': 25, 'country': 'USA'}\n",
            "Alice\n",
            "{'name': 'Bob', 'city': 'New York'}\n",
            "True\n"
          ]
        }
      ]
    },
    {
      "cell_type": "code",
      "source": [
        "# 26 Write a code to create a list, a tuple, and a dictionary, and print them all\n",
        "lst = [1, 2, 3]\n",
        "tup = (4, 5, 6)\n",
        "dct = {\"a\": 1, \"b\": 2}\n",
        "print(lst, tup, dct)\n",
        "\n",
        "# 27 Write a code to create a list of 5 random numbers between 1 and 100, sort it in ascending order, and print the result.(replaced)\n",
        "import random\n",
        "nums = random.sample(range(1, 101), 5)\n",
        "nums.sort()\n",
        "print(nums)\n",
        "\n",
        "# 28 Write a code to create a list with strings and print the element at the third index.\n",
        "words = [\"apple\", \"banana\", \"cherry\", \"date\"]\n",
        "print(words[3])\n",
        "\n",
        "# 29 Write a code to combine two dictionaries into one and print the result.\n",
        "dict1 = {\"a\": 1, \"b\": 2}\n",
        "dict2 = {\"c\": 3, \"d\": 4}\n",
        "combined = {**dict1, **dict2}\n",
        "print(combined)\n",
        "\n",
        "# 30  Write a code to convert a list of strings into a set.\n",
        "string_list = [\"apple\", \"banana\", \"apple\"]\n",
        "string_set = set(string_list)\n",
        "print(string_set)\n"
      ],
      "metadata": {
        "colab": {
          "base_uri": "https://localhost:8080/"
        },
        "id": "-ryp6Et8aTPE",
        "outputId": "c1352d2d-d385-4fa3-c815-21f15e781ef0"
      },
      "execution_count": 10,
      "outputs": [
        {
          "output_type": "stream",
          "name": "stdout",
          "text": [
            "[1, 2, 3] (4, 5, 6) {'a': 1, 'b': 2}\n",
            "[8, 11, 62, 84, 91]\n",
            "date\n",
            "{'a': 1, 'b': 2, 'c': 3, 'd': 4}\n",
            "{'banana', 'apple'}\n"
          ]
        }
      ]
    }
  ]
}